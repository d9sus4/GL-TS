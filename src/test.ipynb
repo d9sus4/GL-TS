{
 "cells": [
  {
   "cell_type": "code",
   "execution_count": 19,
   "metadata": {},
   "outputs": [
    {
     "name": "stdout",
     "output_type": "stream",
     "text": [
      "The autoreload extension is already loaded. To reload it, use:\n",
      "  %reload_ext autoreload\n"
     ]
    }
   ],
   "source": [
    "%load_ext autoreload\n",
    "%autoreload 2\n",
    "\n",
    "from torch_ssl.torch_ssl import *\n",
    "import pickle\n",
    "import numpy as np\n",
    "import xgboost as xgb"
   ]
  },
  {
   "cell_type": "code",
   "execution_count": 20,
   "metadata": {},
   "outputs": [
    {
     "name": "stdout",
     "output_type": "stream",
     "text": [
      "dataset size = 40336\n",
      "max seq len in dataset = 336\n",
      "num sensors = 7\n",
      "initial train feature shape = (36302, 1, 336, 7)\n",
      "initial eval feature shape = (4034, 1, 336, 7)\n",
      "train label shape = (36302,)\n",
      "eval label shape = (4034,)\n"
     ]
    }
   ],
   "source": [
    "# load and devide datasets\n",
    "RATIO = 0.9 # train-test ratio\n",
    "with open('../data/P19_xgboost.pkl', 'rb') as f:\n",
    "    dataset = pickle.load(f)\n",
    "segments = dataset['data']\n",
    "metadata = dataset['meta']\n",
    "max_seq_len = metadata['max_seq_len']\n",
    "ds_size = metadata['size']\n",
    "num_sensors = metadata['num_sensors']\n",
    "print(f'dataset size = {ds_size}')\n",
    "print(f'max seq len in dataset = {max_seq_len}')\n",
    "print(f'num sensors = {num_sensors}')\n",
    "x_tr = []\n",
    "x_ev = []\n",
    "y_tr = []\n",
    "y_ev = []\n",
    "for i, segment in enumerate(segments):\n",
    "    obs = segment['obs']\n",
    "    label = segment['label']\n",
    "    seq_len = obs.shape[0]\n",
    "    # obs_padded = np.pad(obs, ((0, max_seq_len-seq_len), (0, 0)), mode='constant', constant_values=0)\n",
    "    obs_padded = np.pad(obs, ((max_seq_len-seq_len, 0), (0, 0)), mode='constant', constant_values=0)\n",
    "    if i + 1 <= int(RATIO * ds_size):\n",
    "        x_tr.append(obs_padded)\n",
    "        y_tr.append(label)\n",
    "    else:\n",
    "        x_ev.append(obs_padded)\n",
    "        y_ev.append(label)\n",
    "# make arrays\n",
    "x_tr = np.expand_dims(x_tr, axis=1)  # Axis 1 is after the first dimension\n",
    "print(f\"initial train feature shape = {x_tr.shape}\")\n",
    "x_ev = np.expand_dims(x_ev, axis=1)  # Axis 1 is after the first dimension\n",
    "print(f\"initial eval feature shape = {x_ev.shape}\")\n",
    "y_tr = np.array(y_tr)\n",
    "print(f\"train label shape = {y_tr.shape}\")\n",
    "y_ev = np.array(y_ev)\n",
    "print(f\"eval label shape = {y_ev.shape}\")\n"
   ]
  },
  {
   "cell_type": "code",
   "execution_count": 21,
   "metadata": {},
   "outputs": [
    {
     "name": "stdout",
     "output_type": "stream",
     "text": [
      "[0.1008506  0.01199676 0.02290171 ... 0.01266105 0.04477429 0.00903396]\n",
      "AUROC: 0.9151\n"
     ]
    }
   ],
   "source": [
    "# classification on original data, no processing at all\n",
    "\n",
    "# fit the downstream task head\n",
    "\n",
    "flat_x_tr = x_tr.reshape(x_tr.shape[0], -1)\n",
    "\n",
    "# >>> logistic regression >>>\n",
    "# classifier = LogisticRegression(max_iter=2000)\n",
    "# classifier.fit(flat_x_tr, y_tr)\n",
    "# <<< logistic regression <<<\n",
    "\n",
    "# >>> xgboost classifier >>>\n",
    "classifier = xgb.XGBClassifier(\n",
    "    n_estimators=100,    # Number of gradient boosted trees. Equivalent to number of boosting rounds.\n",
    "    max_depth=3,         # Maximum depth of a tree. Increasing this value will make the model more complex and more likely to overfit.\n",
    "    learning_rate=0.1,   # Step size shrinkage used in update to prevents overfitting. After each boosting step, we can directly get the weights of new features.\n",
    "    eval_metric='logloss' # Evaluation metric for validation data during training\n",
    ")\n",
    "classifier.fit(flat_x_tr, y_tr)\n",
    "# <<< xgboost classifier <<<\n",
    "\n",
    "# evaluate model\n",
    "flat_x_ev = x_ev.reshape(x_ev.shape[0], -1)\n",
    "y_probs = classifier.predict_proba(flat_x_ev)[:, 1] # probabilities for the positive class\n",
    "print(y_probs)\n",
    "auroc = roc_auc_score(y_ev, y_probs)\n",
    "print(f\"AUROC: {auroc:.4f}\")"
   ]
  },
  {
   "cell_type": "code",
   "execution_count": 22,
   "metadata": {},
   "outputs": [
    {
     "name": "stdout",
     "output_type": "stream",
     "text": [
      "learned parameters for layer 0, output size was torch.Size([36302, 21, 112, 1])\n",
      "learned parameters for layer 1, output size was torch.Size([36302, 84, 28, 1])\n",
      "learned parameters for layer 2, output size was torch.Size([36302, 336, 7, 1])\n",
      "learned parameters for layer 3, output size was torch.Size([36302, 2352, 1, 1])\n"
     ]
    }
   ],
   "source": [
    "# define and fit the successive subspace learning model\n",
    "\n",
    "# >>> first attempt subspace score = 84.1%>>>\n",
    "# layer1 = torchSaab(kernel_size=(4,1), stride=(4,1), channelwise=False)\n",
    "# layer2 = torchSaab(kernel_size=(4,1), stride=(4,1), channelwise=True)\n",
    "# layer3 = torchSaab(kernel_size=(4,2), stride=(4,2), channelwise=True)\n",
    "# layer4 = torchSaab(kernel_size=(4,2), stride=(4,2), channelwise=True)\n",
    "# <<< first attempt <<<\n",
    "\n",
    "# >>> second attempt subspace score = 85.3%>>>\n",
    "# layer1 = torchSaab(kernel_size=(4,7), stride=(4,1), channelwise=False)\n",
    "# layer2 = torchSaab(kernel_size=(4,1), stride=(4,1), channelwise=True)\n",
    "# layer3 = torchSaab(kernel_size=(4,1), stride=(4,1), channelwise=True)\n",
    "# layer4 = torchSaab(kernel_size=(4,1), stride=(4,1), channelwise=True)\n",
    "# <<< second attempt <<<\n",
    "\n",
    "# >>> third attempt subspace score = ??.?%>>>\n",
    "layer1 = torchSaab(kernel_size=(3,7), stride=(3,1), channelwise=False)\n",
    "layer2 = torchSaab(kernel_size=(4,1), stride=(4,1), channelwise=True)\n",
    "layer3 = torchSaab(kernel_size=(4,1), stride=(4,1), channelwise=True)\n",
    "layer4 = torchSaab(kernel_size=(7,1), stride=(7,1), channelwise=True)\n",
    "# <<< third attempt <<<\n",
    "\n",
    "ssl_model = sslModel([\n",
    "    layer1,\n",
    "    layer2,\n",
    "    layer3,\n",
    "    layer4,\n",
    "    ])\n",
    "\n",
    "# fit the model\n",
    "\n",
    "ssl_model.fit(x_tr);"
   ]
  },
  {
   "cell_type": "code",
   "execution_count": 23,
   "metadata": {},
   "outputs": [
    {
     "name": "stdout",
     "output_type": "stream",
     "text": [
      "features size = (36302, 2352)\n"
     ]
    }
   ],
   "source": [
    "# ssl dimensionality reduction for training features\n",
    "\n",
    "subspace_x_tr = ssl_model(x_tr)\n",
    "# trucate ac\n",
    "# subspace_x_tr = subspace_x_tr[:,:4]\n",
    "subspace_x_tr = subspace_x_tr.reshape(subspace_x_tr.shape[0], -1)\n",
    "# ensemble\n",
    "# subspace_x_tr = np.concatenate([x_tr.reshape(x_tr.shape[0], -1), subspace_x_tr,], axis=1)\n",
    "print(f'features size = {subspace_x_tr.shape}')"
   ]
  },
  {
   "cell_type": "code",
   "execution_count": 6,
   "metadata": {},
   "outputs": [
    {
     "name": "stdout",
     "output_type": "stream",
     "text": [
      "(36302, 3020) (36302,)\n"
     ]
    },
    {
     "data": {
      "image/png": "[encoded data removed]",
      "text/plain": [
       "<Figure size 640x480 with 1 Axes>"
      ]
     },
     "metadata": {},
     "output_type": "display_data"
    }
   ],
   "source": [
    "# define and fit the feature selection model\n",
    "\n",
    "from feature_test.utils import *\n",
    "from matplotlib import pyplot as plt\n",
    "\n",
    "## Synthetic binary classification datasets: 1000 samples, 100 features\n",
    "# X = np.random.randn(1000, 100)\n",
    "# y = np.zeros(1000)\n",
    "# pos_idx = np.arange(1000)\n",
    "# np.random.shuffle(pos_idx)\n",
    "# y[pos_idx[:500]] = 1\n",
    "\n",
    "### train DFT\n",
    "dft_model = FeatureTest(loss='bce')\n",
    "print(subspace_x_tr.shape, y_tr.shape)\n",
    "dft_model.fit(subspace_x_tr, y_tr, n_bins=32)\n",
    "\n",
    "plt.figure()\n",
    "plt.plot(np.arange(subspace_x_tr.shape[-1]), np.array(list(dft_model.dim_loss.values())))\n",
    "plt.xlabel('Rank')\n",
    "plt.ylabel('BCE')\n",
    "plt.show()"
   ]
  },
  {
   "cell_type": "code",
   "execution_count": 24,
   "metadata": {},
   "outputs": [],
   "source": [
    "# select top significant features\n",
    "N_SELECTED = 1024\n",
    "\n",
    "# >>> do select >>>\n",
    "# selected_x_tr = dft_model.transform(subspace_x_tr, n_selected=N_SELECTED)\n",
    "# print(selected_x_tr.shape)\n",
    "# <<< do select <<<\n",
    "\n",
    "# >>> bypass >>>\n",
    "selected_x_tr = subspace_x_tr\n",
    "# <<< bypass <<<"
   ]
  },
  {
   "cell_type": "code",
   "execution_count": 25,
   "metadata": {},
   "outputs": [
    {
     "name": "stderr",
     "output_type": "stream",
     "text": [
      "/Users/d9sus4/miniconda3/envs/playground/lib/python3.11/site-packages/sklearn/linear_model/_logistic.py:458: ConvergenceWarning: lbfgs failed to converge (status=1):\n",
      "STOP: TOTAL NO. of ITERATIONS REACHED LIMIT.\n",
      "\n",
      "Increase the number of iterations (max_iter) or scale the data as shown in:\n",
      "    https://scikit-learn.org/stable/modules/preprocessing.html\n",
      "Please also refer to the documentation for alternative solver options:\n",
      "    https://scikit-learn.org/stable/modules/linear_model.html#logistic-regression\n",
      "  n_iter_i = _check_optimize_result(\n"
     ]
    },
    {
     "data": {
      "text/html": [
       "<style>#sk-container-id-4 {color: black;background-color: white;}#sk-container-id-4 pre{padding: 0;}#sk-container-id-4 div.sk-toggleable {background-color: white;}#sk-container-id-4 label.sk-toggleable__label {cursor: pointer;display: block;width: 100%;margin-bottom: 0;padding: 0.3em;box-sizing: border-box;text-align: center;}#sk-container-id-4 label.sk-toggleable__label-arrow:before {content: \"▸\";float: left;margin-right: 0.25em;color: #696969;}#sk-container-id-4 label.sk-toggleable__label-arrow:hover:before {color: black;}#sk-container-id-4 div.sk-estimator:hover label.sk-toggleable__label-arrow:before {color: black;}#sk-container-id-4 div.sk-toggleable__content {max-height: 0;max-width: 0;overflow: hidden;text-align: left;background-color: #f0f8ff;}#sk-container-id-4 div.sk-toggleable__content pre {margin: 0.2em;color: black;border-radius: 0.25em;background-color: #f0f8ff;}#sk-container-id-4 input.sk-toggleable__control:checked~div.sk-toggleable__content {max-height: 200px;max-width: 100%;overflow: auto;}#sk-container-id-4 input.sk-toggleable__control:checked~label.sk-toggleable__label-arrow:before {content: \"▾\";}#sk-container-id-4 div.sk-estimator input.sk-toggleable__control:checked~label.sk-toggleable__label {background-color: #d4ebff;}#sk-container-id-4 div.sk-label input.sk-toggleable__control:checked~label.sk-toggleable__label {background-color: #d4ebff;}#sk-container-id-4 input.sk-hidden--visually {border: 0;clip: rect(1px 1px 1px 1px);clip: rect(1px, 1px, 1px, 1px);height: 1px;margin: -1px;overflow: hidden;padding: 0;position: absolute;width: 1px;}#sk-container-id-4 div.sk-estimator {font-family: monospace;background-color: #f0f8ff;border: 1px dotted black;border-radius: 0.25em;box-sizing: border-box;margin-bottom: 0.5em;}#sk-container-id-4 div.sk-estimator:hover {background-color: #d4ebff;}#sk-container-id-4 div.sk-parallel-item::after {content: \"\";width: 100%;border-bottom: 1px solid gray;flex-grow: 1;}#sk-container-id-4 div.sk-label:hover label.sk-toggleable__label {background-color: #d4ebff;}#sk-container-id-4 div.sk-serial::before {content: \"\";position: absolute;border-left: 1px solid gray;box-sizing: border-box;top: 0;bottom: 0;left: 50%;z-index: 0;}#sk-container-id-4 div.sk-serial {display: flex;flex-direction: column;align-items: center;background-color: white;padding-right: 0.2em;padding-left: 0.2em;position: relative;}#sk-container-id-4 div.sk-item {position: relative;z-index: 1;}#sk-container-id-4 div.sk-parallel {display: flex;align-items: stretch;justify-content: center;background-color: white;position: relative;}#sk-container-id-4 div.sk-item::before, #sk-container-id-4 div.sk-parallel-item::before {content: \"\";position: absolute;border-left: 1px solid gray;box-sizing: border-box;top: 0;bottom: 0;left: 50%;z-index: -1;}#sk-container-id-4 div.sk-parallel-item {display: flex;flex-direction: column;z-index: 1;position: relative;background-color: white;}#sk-container-id-4 div.sk-parallel-item:first-child::after {align-self: flex-end;width: 50%;}#sk-container-id-4 div.sk-parallel-item:last-child::after {align-self: flex-start;width: 50%;}#sk-container-id-4 div.sk-parallel-item:only-child::after {width: 0;}#sk-container-id-4 div.sk-dashed-wrapped {border: 1px dashed gray;margin: 0 0.4em 0.5em 0.4em;box-sizing: border-box;padding-bottom: 0.4em;background-color: white;}#sk-container-id-4 div.sk-label label {font-family: monospace;font-weight: bold;display: inline-block;line-height: 1.2em;}#sk-container-id-4 div.sk-label-container {text-align: center;}#sk-container-id-4 div.sk-container {/* jupyter's `normalize.less` sets `[hidden] { display: none; }` but bootstrap.min.css set `[hidden] { display: none !important; }` so we also need the `!important` here to be able to override the default hidden behavior on the sphinx rendered scikit-learn.org. See: https://github.com/scikit-learn/scikit-learn/issues/21755 */display: inline-block !important;position: relative;}#sk-container-id-4 div.sk-text-repr-fallback {display: none;}</style><div id=\"sk-container-id-4\" class=\"sk-top-container\"><div class=\"sk-text-repr-fallback\"><pre>LogisticRegression(max_iter=2000)</pre><b>In a Jupyter environment, please rerun this cell to show the HTML representation or trust the notebook. <br />On GitHub, the HTML representation is unable to render, please try loading this page with nbviewer.org.</b></div><div class=\"sk-container\" hidden><div class=\"sk-item\"><div class=\"sk-estimator sk-toggleable\"><input class=\"sk-toggleable__control sk-hidden--visually\" id=\"sk-estimator-id-4\" type=\"checkbox\" checked><label for=\"sk-estimator-id-4\" class=\"sk-toggleable__label sk-toggleable__label-arrow\">LogisticRegression</label><div class=\"sk-toggleable__content\"><pre>LogisticRegression(max_iter=2000)</pre></div></div></div></div></div>"
      ],
      "text/plain": [
       "LogisticRegression(max_iter=2000)"
      ]
     },
     "execution_count": 25,
     "metadata": {},
     "output_type": "execute_result"
    }
   ],
   "source": [
    "# fit the downstream task head\n",
    "\n",
    "import xgboost as xgb\n",
    "\n",
    "# >>> logistic regression >>>\n",
    "classifier = LogisticRegression(max_iter=3000)\n",
    "classifier.fit(selected_x_tr, y_tr)\n",
    "# <<< logistic regression <<<\n",
    "\n",
    "# >>> xgboost classifier >>>\n",
    "# classifier = xgb.XGBClassifier(\n",
    "#     n_estimators=100,    # Number of gradient boosted trees. Equivalent to number of boosting rounds.\n",
    "#     max_depth=3,         # Maximum depth of a tree. Increasing this value will make the model more complex and more likely to overfit.\n",
    "#     learning_rate=0.1,   # Step size shrinkage used in update to prevents overfitting. After each boosting step, we can directly get the weights of new features.\n",
    "#     eval_metric='logloss' # Evaluation metric for validation data during training\n",
    "# )\n",
    "# classifier.fit(selected_x_tr, y_tr)\n",
    "# <<< xgboost classifier <<<"
   ]
  },
  {
   "cell_type": "code",
   "execution_count": 26,
   "metadata": {},
   "outputs": [
    {
     "name": "stdout",
     "output_type": "stream",
     "text": [
      "AUROC: 0.8654\n"
     ]
    }
   ],
   "source": [
    "# evaluate model\n",
    "\n",
    "subspace_x_ev = ssl_model(x_ev)\n",
    "# trucate ac\n",
    "# subspace_x_ev = subspace_x_ev[:,:4]\n",
    "subspace_x_ev = subspace_x_ev.reshape(subspace_x_ev.shape[0] ,-1)\n",
    "# ensemble\n",
    "# subspace_x_ev = np.concatenate([x_ev.reshape(x_ev.shape[0], -1), subspace_x_ev,], axis=1)\n",
    "# selected_x_ev = dft_model.transform(subspace_x_ev, n_selected=N_SELECTED)\n",
    "y_probs = classifier.predict_proba(subspace_x_ev)[:, 1] # probabilities for the positive class\n",
    "auroc = roc_auc_score(y_ev, y_probs)\n",
    "print(f\"AUROC: {auroc:.4f}\")"
   ]
  }
 ],
 "metadata": {
  "kernelspec": {
   "display_name": "playground",
   "language": "python",
   "name": "python3"
  },
  "language_info": {
   "codemirror_mode": {
    "name": "ipython",
    "version": 3
   },
   "file_extension": ".py",
   "mimetype": "text/x-python",
   "name": "python",
   "nbconvert_exporter": "python",
   "pygments_lexer": "ipython3",
   "version": "3.11.0"
  }
 },
 "nbformat": 4,
 "nbformat_minor": 2
}
