{
 "cells": [
  {
   "cell_type": "code",
   "execution_count": 17,
   "metadata": {},
   "outputs": [],
   "source": [
    "from torch_ssl import *"
   ]
  },
  {
   "cell_type": "code",
   "execution_count": 23,
   "metadata": {},
   "outputs": [
    {
     "name": "stdout",
     "output_type": "stream",
     "text": [
      "dataset size = 40336\n",
      "max seq len in dataset = 336\n",
      "num sensors = 34\n"
     ]
    }
   ],
   "source": [
    "RATIO = 0.9 # train-test ratio\n",
    "with open('../../data/P19_xgboost.pkl', 'rb') as f:\n",
    "    dataset = pickle.load(f)\n",
    "segments = dataset['data']\n",
    "metadata = dataset['meta']\n",
    "max_seq_len = metadata['max_seq_len']\n",
    "ds_size = metadata['size']\n",
    "num_sensors = metadata['num_sensors']\n",
    "print(f'dataset size = {ds_size}')\n",
    "print(f'max seq len in dataset = {max_seq_len}')\n",
    "print(f'num sensors = {num_sensors}')\n",
    "x_tr = []\n",
    "x_ev = []\n",
    "y_tr = []\n",
    "y_ev = []\n",
    "for i, segment in enumerate(segments):\n",
    "    obs = segment['obs']\n",
    "    label = segment['label']\n",
    "    seq_len = obs.shape[0]\n",
    "    obs_padded = np.pad(obs, ((0, max_seq_len-seq_len), (0, 0)), mode='constant', constant_values=0)\n",
    "    if i + 1 <= int(RATIO * ds_size):\n",
    "        x_tr.append(obs_padded)\n",
    "        y_tr.append(label)\n",
    "    else:\n",
    "        x_ev.append(obs_padded)\n",
    "        y_ev.append(label)\n",
    "layer1 = torchSaab(kernel_size=(4,1), stride=(4,1), channelwise=False)\n",
    "layer2 = torchSaab(kernel_size=(4,1), stride=(4,1), channelwise=True)\n",
    "layer3 = torchSaab(kernel_size=(4,2), stride=(4,2), channelwise=True)\n",
    "layer4 = torchSaab(kernel_size=(4,2), stride=(4,2), channelwise=True)\n",
    "# model = sslModel([layer1, layer2, layer3, layer4])\n",
    "model = sslModel([layer1, layer2, layer3, layer4])"
   ]
  },
  {
   "cell_type": "code",
   "execution_count": 24,
   "metadata": {},
   "outputs": [
    {
     "name": "stdout",
     "output_type": "stream",
     "text": [
      "(36302, 1, 336, 7)\n",
      "learned parameters for layer 0, output size was torch.Size([36302, 4, 84, 7])\n",
      "learned parameters for layer 1, output size was torch.Size([36302, 16, 21, 7])\n",
      "learned parameters for layer 2, output size was torch.Size([36302, 128, 5, 3])\n",
      "learned parameters for layer 3, output size was torch.Size([36302, 1024, 1, 1])\n",
      "features size = (36302, 1024)\n"
     ]
    }
   ],
   "source": [
    "x_tr = np.expand_dims(x_tr, axis=1)  # Axis 1 is after the first dimension\n",
    "print(x_tr.shape)\n",
    "model.fit(x_tr)\n",
    "x_tr = model(x_tr)\n",
    "x_tr = x_tr.reshape(-1, 1024)\n",
    "print(f'features size = {x_tr.shape}')"
   ]
  },
  {
   "cell_type": "code",
   "execution_count": 25,
   "metadata": {},
   "outputs": [
    {
     "data": {
      "text/html": [
       "<style>#sk-container-id-5 {color: black;background-color: white;}#sk-container-id-5 pre{padding: 0;}#sk-container-id-5 div.sk-toggleable {background-color: white;}#sk-container-id-5 label.sk-toggleable__label {cursor: pointer;display: block;width: 100%;margin-bottom: 0;padding: 0.3em;box-sizing: border-box;text-align: center;}#sk-container-id-5 label.sk-toggleable__label-arrow:before {content: \"▸\";float: left;margin-right: 0.25em;color: #696969;}#sk-container-id-5 label.sk-toggleable__label-arrow:hover:before {color: black;}#sk-container-id-5 div.sk-estimator:hover label.sk-toggleable__label-arrow:before {color: black;}#sk-container-id-5 div.sk-toggleable__content {max-height: 0;max-width: 0;overflow: hidden;text-align: left;background-color: #f0f8ff;}#sk-container-id-5 div.sk-toggleable__content pre {margin: 0.2em;color: black;border-radius: 0.25em;background-color: #f0f8ff;}#sk-container-id-5 input.sk-toggleable__control:checked~div.sk-toggleable__content {max-height: 200px;max-width: 100%;overflow: auto;}#sk-container-id-5 input.sk-toggleable__control:checked~label.sk-toggleable__label-arrow:before {content: \"▾\";}#sk-container-id-5 div.sk-estimator input.sk-toggleable__control:checked~label.sk-toggleable__label {background-color: #d4ebff;}#sk-container-id-5 div.sk-label input.sk-toggleable__control:checked~label.sk-toggleable__label {background-color: #d4ebff;}#sk-container-id-5 input.sk-hidden--visually {border: 0;clip: rect(1px 1px 1px 1px);clip: rect(1px, 1px, 1px, 1px);height: 1px;margin: -1px;overflow: hidden;padding: 0;position: absolute;width: 1px;}#sk-container-id-5 div.sk-estimator {font-family: monospace;background-color: #f0f8ff;border: 1px dotted black;border-radius: 0.25em;box-sizing: border-box;margin-bottom: 0.5em;}#sk-container-id-5 div.sk-estimator:hover {background-color: #d4ebff;}#sk-container-id-5 div.sk-parallel-item::after {content: \"\";width: 100%;border-bottom: 1px solid gray;flex-grow: 1;}#sk-container-id-5 div.sk-label:hover label.sk-toggleable__label {background-color: #d4ebff;}#sk-container-id-5 div.sk-serial::before {content: \"\";position: absolute;border-left: 1px solid gray;box-sizing: border-box;top: 0;bottom: 0;left: 50%;z-index: 0;}#sk-container-id-5 div.sk-serial {display: flex;flex-direction: column;align-items: center;background-color: white;padding-right: 0.2em;padding-left: 0.2em;position: relative;}#sk-container-id-5 div.sk-item {position: relative;z-index: 1;}#sk-container-id-5 div.sk-parallel {display: flex;align-items: stretch;justify-content: center;background-color: white;position: relative;}#sk-container-id-5 div.sk-item::before, #sk-container-id-5 div.sk-parallel-item::before {content: \"\";position: absolute;border-left: 1px solid gray;box-sizing: border-box;top: 0;bottom: 0;left: 50%;z-index: -1;}#sk-container-id-5 div.sk-parallel-item {display: flex;flex-direction: column;z-index: 1;position: relative;background-color: white;}#sk-container-id-5 div.sk-parallel-item:first-child::after {align-self: flex-end;width: 50%;}#sk-container-id-5 div.sk-parallel-item:last-child::after {align-self: flex-start;width: 50%;}#sk-container-id-5 div.sk-parallel-item:only-child::after {width: 0;}#sk-container-id-5 div.sk-dashed-wrapped {border: 1px dashed gray;margin: 0 0.4em 0.5em 0.4em;box-sizing: border-box;padding-bottom: 0.4em;background-color: white;}#sk-container-id-5 div.sk-label label {font-family: monospace;font-weight: bold;display: inline-block;line-height: 1.2em;}#sk-container-id-5 div.sk-label-container {text-align: center;}#sk-container-id-5 div.sk-container {/* jupyter's `normalize.less` sets `[hidden] { display: none; }` but bootstrap.min.css set `[hidden] { display: none !important; }` so we also need the `!important` here to be able to override the default hidden behavior on the sphinx rendered scikit-learn.org. See: https://github.com/scikit-learn/scikit-learn/issues/21755 */display: inline-block !important;position: relative;}#sk-container-id-5 div.sk-text-repr-fallback {display: none;}</style><div id=\"sk-container-id-5\" class=\"sk-top-container\"><div class=\"sk-text-repr-fallback\"><pre>LogisticRegression(max_iter=1000)</pre><b>In a Jupyter environment, please rerun this cell to show the HTML representation or trust the notebook. <br />On GitHub, the HTML representation is unable to render, please try loading this page with nbviewer.org.</b></div><div class=\"sk-container\" hidden><div class=\"sk-item\"><div class=\"sk-estimator sk-toggleable\"><input class=\"sk-toggleable__control sk-hidden--visually\" id=\"sk-estimator-id-5\" type=\"checkbox\" checked><label for=\"sk-estimator-id-5\" class=\"sk-toggleable__label sk-toggleable__label-arrow\">LogisticRegression</label><div class=\"sk-toggleable__content\"><pre>LogisticRegression(max_iter=1000)</pre></div></div></div></div></div>"
      ],
      "text/plain": [
       "LogisticRegression(max_iter=1000)"
      ]
     },
     "execution_count": 25,
     "metadata": {},
     "output_type": "execute_result"
    }
   ],
   "source": [
    "classifier = LogisticRegression(max_iter=1000)\n",
    "classifier.fit(x_tr, np.array(y_tr))"
   ]
  },
  {
   "cell_type": "code",
   "execution_count": 26,
   "metadata": {},
   "outputs": [
    {
     "name": "stdout",
     "output_type": "stream",
     "text": [
      "(4034, 1, 336, 7)\n",
      "features size = (4034, 1024)\n"
     ]
    }
   ],
   "source": [
    "x_ev = np.expand_dims(x_ev, axis=1)  # Axis 1 is after the first dimension\n",
    "print(x_ev.shape)\n",
    "x_ev = model(x_ev)\n",
    "x_ev = x_ev.reshape(-1, 1024)\n",
    "print(f'features size = {x_ev.shape}')\n"
   ]
  },
  {
   "cell_type": "code",
   "execution_count": 27,
   "metadata": {},
   "outputs": [
    {
     "name": "stdout",
     "output_type": "stream",
     "text": [
      "AUROC: 0.8195\n"
     ]
    }
   ],
   "source": [
    "y_probs = classifier.predict_proba(x_ev)[:, 1] # probabilities for the positive class\n",
    "auroc = roc_auc_score(np.array(y_ev), y_probs)\n",
    "print(f\"AUROC: {auroc:.4f}\")"
   ]
  }
 ],
 "metadata": {
  "kernelspec": {
   "display_name": "playground",
   "language": "python",
   "name": "python3"
  },
  "language_info": {
   "codemirror_mode": {
    "name": "ipython",
    "version": 3
   },
   "file_extension": ".py",
   "mimetype": "text/x-python",
   "name": "python",
   "nbconvert_exporter": "python",
   "pygments_lexer": "ipython3",
   "version": "3.11.0"
  }
 },
 "nbformat": 4,
 "nbformat_minor": 2
}
